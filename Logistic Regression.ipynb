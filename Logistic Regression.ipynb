{
 "cells": [
  {
   "cell_type": "markdown",
   "id": "cab53339",
   "metadata": {},
   "source": [
    "# Problem Statement"
   ]
  },
  {
   "cell_type": "markdown",
   "id": "d6f31e76",
   "metadata": {},
   "source": [
    "\n",
    "\n",
    "Goal is to create a model which will be able to predict all positive class as positive only."
   ]
  },
  {
   "cell_type": "code",
   "execution_count": 1,
   "id": "95cdc4a9",
   "metadata": {},
   "outputs": [],
   "source": [
    "import pandas as pd\n",
    "import numpy as np\n",
    "import matplotlib.pyplot as plt\n",
    "#Use to avoid plt.show()\n",
    "%matplotlib inline     \n",
    "import seaborn as sns\n",
    "\n",
    "import warnings\n",
    "warnings.filterwarnings('ignore')"
   ]
  },
  {
   "cell_type": "code",
   "execution_count": 2,
   "id": "3f9d066e",
   "metadata": {},
   "outputs": [
    {
     "data": {
      "text/html": [
       "<div>\n",
       "<style scoped>\n",
       "    .dataframe tbody tr th:only-of-type {\n",
       "        vertical-align: middle;\n",
       "    }\n",
       "\n",
       "    .dataframe tbody tr th {\n",
       "        vertical-align: top;\n",
       "    }\n",
       "\n",
       "    .dataframe thead th {\n",
       "        text-align: right;\n",
       "    }\n",
       "</style>\n",
       "<table border=\"1\" class=\"dataframe\">\n",
       "  <thead>\n",
       "    <tr style=\"text-align: right;\">\n",
       "      <th></th>\n",
       "      <th>Unnamed: 0</th>\n",
       "      <th>CASENUM</th>\n",
       "      <th>ATTORNEY</th>\n",
       "      <th>CLMSEX</th>\n",
       "      <th>CLMINSUR</th>\n",
       "      <th>SEATBELT</th>\n",
       "      <th>CLMAGE</th>\n",
       "      <th>LOSS</th>\n",
       "    </tr>\n",
       "  </thead>\n",
       "  <tbody>\n",
       "    <tr>\n",
       "      <th>0</th>\n",
       "      <td>0</td>\n",
       "      <td>5</td>\n",
       "      <td>1</td>\n",
       "      <td>0.0</td>\n",
       "      <td>1.0</td>\n",
       "      <td>0.0</td>\n",
       "      <td>50.0</td>\n",
       "      <td>34.940</td>\n",
       "    </tr>\n",
       "    <tr>\n",
       "      <th>1</th>\n",
       "      <td>1</td>\n",
       "      <td>3</td>\n",
       "      <td>0</td>\n",
       "      <td>1.0</td>\n",
       "      <td>0.0</td>\n",
       "      <td>0.0</td>\n",
       "      <td>18.0</td>\n",
       "      <td>0.891</td>\n",
       "    </tr>\n",
       "    <tr>\n",
       "      <th>2</th>\n",
       "      <td>2</td>\n",
       "      <td>66</td>\n",
       "      <td>0</td>\n",
       "      <td>0.0</td>\n",
       "      <td>1.0</td>\n",
       "      <td>0.0</td>\n",
       "      <td>5.0</td>\n",
       "      <td>0.330</td>\n",
       "    </tr>\n",
       "    <tr>\n",
       "      <th>3</th>\n",
       "      <td>3</td>\n",
       "      <td>70</td>\n",
       "      <td>1</td>\n",
       "      <td>0.0</td>\n",
       "      <td>1.0</td>\n",
       "      <td>1.0</td>\n",
       "      <td>31.0</td>\n",
       "      <td>0.037</td>\n",
       "    </tr>\n",
       "    <tr>\n",
       "      <th>4</th>\n",
       "      <td>4</td>\n",
       "      <td>96</td>\n",
       "      <td>0</td>\n",
       "      <td>0.0</td>\n",
       "      <td>1.0</td>\n",
       "      <td>0.0</td>\n",
       "      <td>30.0</td>\n",
       "      <td>0.038</td>\n",
       "    </tr>\n",
       "    <tr>\n",
       "      <th>...</th>\n",
       "      <td>...</td>\n",
       "      <td>...</td>\n",
       "      <td>...</td>\n",
       "      <td>...</td>\n",
       "      <td>...</td>\n",
       "      <td>...</td>\n",
       "      <td>...</td>\n",
       "      <td>...</td>\n",
       "    </tr>\n",
       "    <tr>\n",
       "      <th>1335</th>\n",
       "      <td>1335</td>\n",
       "      <td>34100</td>\n",
       "      <td>0</td>\n",
       "      <td>0.0</td>\n",
       "      <td>1.0</td>\n",
       "      <td>0.0</td>\n",
       "      <td>NaN</td>\n",
       "      <td>0.576</td>\n",
       "    </tr>\n",
       "    <tr>\n",
       "      <th>1336</th>\n",
       "      <td>1336</td>\n",
       "      <td>34110</td>\n",
       "      <td>1</td>\n",
       "      <td>1.0</td>\n",
       "      <td>1.0</td>\n",
       "      <td>0.0</td>\n",
       "      <td>46.0</td>\n",
       "      <td>3.705</td>\n",
       "    </tr>\n",
       "    <tr>\n",
       "      <th>1337</th>\n",
       "      <td>1337</td>\n",
       "      <td>34113</td>\n",
       "      <td>0</td>\n",
       "      <td>1.0</td>\n",
       "      <td>1.0</td>\n",
       "      <td>0.0</td>\n",
       "      <td>39.0</td>\n",
       "      <td>0.099</td>\n",
       "    </tr>\n",
       "    <tr>\n",
       "      <th>1338</th>\n",
       "      <td>1338</td>\n",
       "      <td>34145</td>\n",
       "      <td>1</td>\n",
       "      <td>1.0</td>\n",
       "      <td>0.0</td>\n",
       "      <td>0.0</td>\n",
       "      <td>8.0</td>\n",
       "      <td>3.177</td>\n",
       "    </tr>\n",
       "    <tr>\n",
       "      <th>1339</th>\n",
       "      <td>1339</td>\n",
       "      <td>34153</td>\n",
       "      <td>0</td>\n",
       "      <td>1.0</td>\n",
       "      <td>1.0</td>\n",
       "      <td>0.0</td>\n",
       "      <td>30.0</td>\n",
       "      <td>0.688</td>\n",
       "    </tr>\n",
       "  </tbody>\n",
       "</table>\n",
       "<p>1340 rows × 8 columns</p>\n",
       "</div>"
      ],
      "text/plain": [
       "      Unnamed: 0  CASENUM  ATTORNEY  CLMSEX  CLMINSUR  SEATBELT  CLMAGE  \\\n",
       "0              0        5         1     0.0       1.0       0.0    50.0   \n",
       "1              1        3         0     1.0       0.0       0.0    18.0   \n",
       "2              2       66         0     0.0       1.0       0.0     5.0   \n",
       "3              3       70         1     0.0       1.0       1.0    31.0   \n",
       "4              4       96         0     0.0       1.0       0.0    30.0   \n",
       "...          ...      ...       ...     ...       ...       ...     ...   \n",
       "1335        1335    34100         0     0.0       1.0       0.0     NaN   \n",
       "1336        1336    34110         1     1.0       1.0       0.0    46.0   \n",
       "1337        1337    34113         0     1.0       1.0       0.0    39.0   \n",
       "1338        1338    34145         1     1.0       0.0       0.0     8.0   \n",
       "1339        1339    34153         0     1.0       1.0       0.0    30.0   \n",
       "\n",
       "        LOSS  \n",
       "0     34.940  \n",
       "1      0.891  \n",
       "2      0.330  \n",
       "3      0.037  \n",
       "4      0.038  \n",
       "...      ...  \n",
       "1335   0.576  \n",
       "1336   3.705  \n",
       "1337   0.099  \n",
       "1338   3.177  \n",
       "1339   0.688  \n",
       "\n",
       "[1340 rows x 8 columns]"
      ]
     },
     "execution_count": 2,
     "metadata": {},
     "output_type": "execute_result"
    }
   ],
   "source": [
    "#Read the data\n",
    "df = pd.read_csv(\"Client.csv\")\n",
    "df"
   ]
  },
  {
   "cell_type": "markdown",
   "id": "dea0d185",
   "metadata": {},
   "source": [
    "# EDA"
   ]
  },
  {
   "cell_type": "code",
   "execution_count": 3,
   "id": "8853b2df",
   "metadata": {},
   "outputs": [],
   "source": [
    "#for drop column which are not in use\n",
    "df.drop(columns=['Unnamed: 0','CASENUM'],inplace=True)"
   ]
  },
  {
   "cell_type": "code",
   "execution_count": 4,
   "id": "acc6ad2a",
   "metadata": {},
   "outputs": [
    {
     "data": {
      "text/html": [
       "<div>\n",
       "<style scoped>\n",
       "    .dataframe tbody tr th:only-of-type {\n",
       "        vertical-align: middle;\n",
       "    }\n",
       "\n",
       "    .dataframe tbody tr th {\n",
       "        vertical-align: top;\n",
       "    }\n",
       "\n",
       "    .dataframe thead th {\n",
       "        text-align: right;\n",
       "    }\n",
       "</style>\n",
       "<table border=\"1\" class=\"dataframe\">\n",
       "  <thead>\n",
       "    <tr style=\"text-align: right;\">\n",
       "      <th></th>\n",
       "      <th>ATTORNEY</th>\n",
       "      <th>CLMSEX</th>\n",
       "      <th>CLMINSUR</th>\n",
       "      <th>SEATBELT</th>\n",
       "      <th>CLMAGE</th>\n",
       "      <th>LOSS</th>\n",
       "    </tr>\n",
       "  </thead>\n",
       "  <tbody>\n",
       "    <tr>\n",
       "      <th>0</th>\n",
       "      <td>1</td>\n",
       "      <td>0.0</td>\n",
       "      <td>1.0</td>\n",
       "      <td>0.0</td>\n",
       "      <td>50.0</td>\n",
       "      <td>34.940</td>\n",
       "    </tr>\n",
       "    <tr>\n",
       "      <th>1</th>\n",
       "      <td>0</td>\n",
       "      <td>1.0</td>\n",
       "      <td>0.0</td>\n",
       "      <td>0.0</td>\n",
       "      <td>18.0</td>\n",
       "      <td>0.891</td>\n",
       "    </tr>\n",
       "    <tr>\n",
       "      <th>2</th>\n",
       "      <td>0</td>\n",
       "      <td>0.0</td>\n",
       "      <td>1.0</td>\n",
       "      <td>0.0</td>\n",
       "      <td>5.0</td>\n",
       "      <td>0.330</td>\n",
       "    </tr>\n",
       "    <tr>\n",
       "      <th>3</th>\n",
       "      <td>1</td>\n",
       "      <td>0.0</td>\n",
       "      <td>1.0</td>\n",
       "      <td>1.0</td>\n",
       "      <td>31.0</td>\n",
       "      <td>0.037</td>\n",
       "    </tr>\n",
       "    <tr>\n",
       "      <th>4</th>\n",
       "      <td>0</td>\n",
       "      <td>0.0</td>\n",
       "      <td>1.0</td>\n",
       "      <td>0.0</td>\n",
       "      <td>30.0</td>\n",
       "      <td>0.038</td>\n",
       "    </tr>\n",
       "  </tbody>\n",
       "</table>\n",
       "</div>"
      ],
      "text/plain": [
       "   ATTORNEY  CLMSEX  CLMINSUR  SEATBELT  CLMAGE    LOSS\n",
       "0         1     0.0       1.0       0.0    50.0  34.940\n",
       "1         0     1.0       0.0       0.0    18.0   0.891\n",
       "2         0     0.0       1.0       0.0     5.0   0.330\n",
       "3         1     0.0       1.0       1.0    31.0   0.037\n",
       "4         0     0.0       1.0       0.0    30.0   0.038"
      ]
     },
     "execution_count": 4,
     "metadata": {},
     "output_type": "execute_result"
    }
   ],
   "source": [
    "df.head()"
   ]
  },
  {
   "cell_type": "code",
   "execution_count": 5,
   "id": "f4753132",
   "metadata": {},
   "outputs": [
    {
     "data": {
      "text/plain": [
       "(1340, 6)"
      ]
     },
     "execution_count": 5,
     "metadata": {},
     "output_type": "execute_result"
    }
   ],
   "source": [
    "df.shape"
   ]
  },
  {
   "cell_type": "code",
   "execution_count": 6,
   "id": "793246f5",
   "metadata": {},
   "outputs": [
    {
     "data": {
      "text/plain": [
       "ATTORNEY      0\n",
       "CLMSEX       12\n",
       "CLMINSUR     41\n",
       "SEATBELT     48\n",
       "CLMAGE      189\n",
       "LOSS          0\n",
       "dtype: int64"
      ]
     },
     "execution_count": 6,
     "metadata": {},
     "output_type": "execute_result"
    }
   ],
   "source": [
    "#for null values\n",
    "df.isna().sum()"
   ]
  },
  {
   "cell_type": "markdown",
   "id": "b623c039",
   "metadata": {},
   "source": [
    "# Missing Value Imputation"
   ]
  },
  {
   "cell_type": "code",
   "execution_count": 7,
   "id": "1f785224",
   "metadata": {},
   "outputs": [],
   "source": [
    "# for fill null values\n",
    "from sklearn.impute import SimpleImputer"
   ]
  },
  {
   "cell_type": "code",
   "execution_count": 8,
   "id": "e5a7937e",
   "metadata": {},
   "outputs": [],
   "source": [
    "si = SimpleImputer(strategy='most_frequent')\n",
    "#here we used mode to fill null values because the data is in categorical form"
   ]
  },
  {
   "cell_type": "code",
   "execution_count": 9,
   "id": "9dca3759",
   "metadata": {},
   "outputs": [],
   "source": [
    "df.iloc[:,1:4] = si.fit_transform(df.iloc[:,1:4])"
   ]
  },
  {
   "cell_type": "code",
   "execution_count": 10,
   "id": "4168abab",
   "metadata": {},
   "outputs": [],
   "source": [
    "df['CLMAGE'].fillna(df['CLMAGE'].mean(),inplace=True)     #fillna inside pandas function\n",
    "# here we used mean because the column contains continuous data"
   ]
  },
  {
   "cell_type": "code",
   "execution_count": 11,
   "id": "e85796b9",
   "metadata": {},
   "outputs": [
    {
     "data": {
      "text/plain": [
       "ATTORNEY    0\n",
       "CLMSEX      0\n",
       "CLMINSUR    0\n",
       "SEATBELT    0\n",
       "CLMAGE      0\n",
       "LOSS        0\n",
       "dtype: int64"
      ]
     },
     "execution_count": 11,
     "metadata": {},
     "output_type": "execute_result"
    }
   ],
   "source": [
    "df.isna().sum()"
   ]
  },
  {
   "cell_type": "markdown",
   "id": "4c41e32a",
   "metadata": {},
   "source": [
    "# Splitting data into training and testing set."
   ]
  },
  {
   "cell_type": "code",
   "execution_count": 12,
   "id": "7e952637",
   "metadata": {},
   "outputs": [],
   "source": [
    "# for split data into training and testing part\n",
    "from sklearn.model_selection import train_test_split"
   ]
  },
  {
   "cell_type": "code",
   "execution_count": 13,
   "id": "29e761de",
   "metadata": {},
   "outputs": [
    {
     "data": {
      "text/html": [
       "<div>\n",
       "<style scoped>\n",
       "    .dataframe tbody tr th:only-of-type {\n",
       "        vertical-align: middle;\n",
       "    }\n",
       "\n",
       "    .dataframe tbody tr th {\n",
       "        vertical-align: top;\n",
       "    }\n",
       "\n",
       "    .dataframe thead th {\n",
       "        text-align: right;\n",
       "    }\n",
       "</style>\n",
       "<table border=\"1\" class=\"dataframe\">\n",
       "  <thead>\n",
       "    <tr style=\"text-align: right;\">\n",
       "      <th></th>\n",
       "      <th>ATTORNEY</th>\n",
       "      <th>CLMSEX</th>\n",
       "      <th>CLMINSUR</th>\n",
       "      <th>SEATBELT</th>\n",
       "      <th>CLMAGE</th>\n",
       "      <th>LOSS</th>\n",
       "    </tr>\n",
       "  </thead>\n",
       "  <tbody>\n",
       "    <tr>\n",
       "      <th>0</th>\n",
       "      <td>1</td>\n",
       "      <td>0.0</td>\n",
       "      <td>1.0</td>\n",
       "      <td>0.0</td>\n",
       "      <td>50.0</td>\n",
       "      <td>34.940</td>\n",
       "    </tr>\n",
       "    <tr>\n",
       "      <th>1</th>\n",
       "      <td>0</td>\n",
       "      <td>1.0</td>\n",
       "      <td>0.0</td>\n",
       "      <td>0.0</td>\n",
       "      <td>18.0</td>\n",
       "      <td>0.891</td>\n",
       "    </tr>\n",
       "  </tbody>\n",
       "</table>\n",
       "</div>"
      ],
      "text/plain": [
       "   ATTORNEY  CLMSEX  CLMINSUR  SEATBELT  CLMAGE    LOSS\n",
       "0         1     0.0       1.0       0.0    50.0  34.940\n",
       "1         0     1.0       0.0       0.0    18.0   0.891"
      ]
     },
     "execution_count": 13,
     "metadata": {},
     "output_type": "execute_result"
    }
   ],
   "source": [
    "df.head(2)"
   ]
  },
  {
   "cell_type": "code",
   "execution_count": 14,
   "id": "e18b2169",
   "metadata": {},
   "outputs": [],
   "source": [
    "#to store target column in different variable which is y\n",
    "x = df.iloc[:,1:]\n",
    "y = df['ATTORNEY']"
   ]
  },
  {
   "cell_type": "code",
   "execution_count": 15,
   "id": "dc89f942",
   "metadata": {},
   "outputs": [],
   "source": [
    "xtrain,xtest,ytrain,ytest = train_test_split(x,y,test_size=0.2,random_state=1)  # random state to get fixed xtrain values"
   ]
  },
  {
   "cell_type": "code",
   "execution_count": 16,
   "id": "9abcc22c",
   "metadata": {},
   "outputs": [
    {
     "data": {
      "text/html": [
       "<div>\n",
       "<style scoped>\n",
       "    .dataframe tbody tr th:only-of-type {\n",
       "        vertical-align: middle;\n",
       "    }\n",
       "\n",
       "    .dataframe tbody tr th {\n",
       "        vertical-align: top;\n",
       "    }\n",
       "\n",
       "    .dataframe thead th {\n",
       "        text-align: right;\n",
       "    }\n",
       "</style>\n",
       "<table border=\"1\" class=\"dataframe\">\n",
       "  <thead>\n",
       "    <tr style=\"text-align: right;\">\n",
       "      <th></th>\n",
       "      <th>CLMSEX</th>\n",
       "      <th>CLMINSUR</th>\n",
       "      <th>SEATBELT</th>\n",
       "      <th>CLMAGE</th>\n",
       "      <th>LOSS</th>\n",
       "    </tr>\n",
       "  </thead>\n",
       "  <tbody>\n",
       "    <tr>\n",
       "      <th>216</th>\n",
       "      <td>1.0</td>\n",
       "      <td>1.0</td>\n",
       "      <td>0.0</td>\n",
       "      <td>10.000000</td>\n",
       "      <td>3.435</td>\n",
       "    </tr>\n",
       "    <tr>\n",
       "      <th>731</th>\n",
       "      <td>0.0</td>\n",
       "      <td>1.0</td>\n",
       "      <td>0.0</td>\n",
       "      <td>30.000000</td>\n",
       "      <td>4.014</td>\n",
       "    </tr>\n",
       "    <tr>\n",
       "      <th>866</th>\n",
       "      <td>1.0</td>\n",
       "      <td>1.0</td>\n",
       "      <td>0.0</td>\n",
       "      <td>30.000000</td>\n",
       "      <td>0.300</td>\n",
       "    </tr>\n",
       "    <tr>\n",
       "      <th>202</th>\n",
       "      <td>1.0</td>\n",
       "      <td>1.0</td>\n",
       "      <td>0.0</td>\n",
       "      <td>18.000000</td>\n",
       "      <td>3.086</td>\n",
       "    </tr>\n",
       "    <tr>\n",
       "      <th>820</th>\n",
       "      <td>0.0</td>\n",
       "      <td>1.0</td>\n",
       "      <td>0.0</td>\n",
       "      <td>40.000000</td>\n",
       "      <td>0.310</td>\n",
       "    </tr>\n",
       "    <tr>\n",
       "      <th>...</th>\n",
       "      <td>...</td>\n",
       "      <td>...</td>\n",
       "      <td>...</td>\n",
       "      <td>...</td>\n",
       "      <td>...</td>\n",
       "    </tr>\n",
       "    <tr>\n",
       "      <th>715</th>\n",
       "      <td>0.0</td>\n",
       "      <td>1.0</td>\n",
       "      <td>0.0</td>\n",
       "      <td>13.000000</td>\n",
       "      <td>6.979</td>\n",
       "    </tr>\n",
       "    <tr>\n",
       "      <th>905</th>\n",
       "      <td>0.0</td>\n",
       "      <td>1.0</td>\n",
       "      <td>0.0</td>\n",
       "      <td>28.414422</td>\n",
       "      <td>3.330</td>\n",
       "    </tr>\n",
       "    <tr>\n",
       "      <th>1096</th>\n",
       "      <td>0.0</td>\n",
       "      <td>1.0</td>\n",
       "      <td>0.0</td>\n",
       "      <td>50.000000</td>\n",
       "      <td>3.095</td>\n",
       "    </tr>\n",
       "    <tr>\n",
       "      <th>235</th>\n",
       "      <td>1.0</td>\n",
       "      <td>1.0</td>\n",
       "      <td>0.0</td>\n",
       "      <td>17.000000</td>\n",
       "      <td>1.619</td>\n",
       "    </tr>\n",
       "    <tr>\n",
       "      <th>1061</th>\n",
       "      <td>1.0</td>\n",
       "      <td>1.0</td>\n",
       "      <td>0.0</td>\n",
       "      <td>47.000000</td>\n",
       "      <td>0.480</td>\n",
       "    </tr>\n",
       "  </tbody>\n",
       "</table>\n",
       "<p>1072 rows × 5 columns</p>\n",
       "</div>"
      ],
      "text/plain": [
       "      CLMSEX  CLMINSUR  SEATBELT     CLMAGE   LOSS\n",
       "216      1.0       1.0       0.0  10.000000  3.435\n",
       "731      0.0       1.0       0.0  30.000000  4.014\n",
       "866      1.0       1.0       0.0  30.000000  0.300\n",
       "202      1.0       1.0       0.0  18.000000  3.086\n",
       "820      0.0       1.0       0.0  40.000000  0.310\n",
       "...      ...       ...       ...        ...    ...\n",
       "715      0.0       1.0       0.0  13.000000  6.979\n",
       "905      0.0       1.0       0.0  28.414422  3.330\n",
       "1096     0.0       1.0       0.0  50.000000  3.095\n",
       "235      1.0       1.0       0.0  17.000000  1.619\n",
       "1061     1.0       1.0       0.0  47.000000  0.480\n",
       "\n",
       "[1072 rows x 5 columns]"
      ]
     },
     "execution_count": 16,
     "metadata": {},
     "output_type": "execute_result"
    }
   ],
   "source": [
    "xtrain  "
   ]
  },
  {
   "cell_type": "markdown",
   "id": "9c31bc29",
   "metadata": {},
   "source": [
    "# Model Building"
   ]
  },
  {
   "cell_type": "code",
   "execution_count": 17,
   "id": "de34e73a",
   "metadata": {},
   "outputs": [],
   "source": [
    "from sklearn.linear_model import LogisticRegression"
   ]
  },
  {
   "cell_type": "code",
   "execution_count": 18,
   "id": "bc7e55af",
   "metadata": {},
   "outputs": [],
   "source": [
    "# stored it in one varibale\n",
    "lg = LogisticRegression()"
   ]
  },
  {
   "cell_type": "code",
   "execution_count": 19,
   "id": "520e0857",
   "metadata": {},
   "outputs": [],
   "source": [
    "#train the model\n",
    "lg.fit(xtrain,ytrain)\n",
    "\n",
    "#Prediction\n",
    "ypred = lg.predict(xtest)"
   ]
  },
  {
   "cell_type": "code",
   "execution_count": 20,
   "id": "ae7e9803",
   "metadata": {},
   "outputs": [
    {
     "data": {
      "text/plain": [
       "268"
      ]
     },
     "execution_count": 20,
     "metadata": {},
     "output_type": "execute_result"
    }
   ],
   "source": [
    "# length of test data\n",
    "len(xtest)"
   ]
  },
  {
   "cell_type": "code",
   "execution_count": 21,
   "id": "5a5a3550",
   "metadata": {},
   "outputs": [
    {
     "data": {
      "text/plain": [
       "268"
      ]
     },
     "execution_count": 21,
     "metadata": {},
     "output_type": "execute_result"
    }
   ],
   "source": [
    "#length of predicted\n",
    "len(ypred)"
   ]
  },
  {
   "cell_type": "markdown",
   "id": "078321fb",
   "metadata": {},
   "source": [
    "# Model Evaluation"
   ]
  },
  {
   "cell_type": "code",
   "execution_count": 22,
   "id": "ecb76e9f",
   "metadata": {},
   "outputs": [
    {
     "name": "stdout",
     "output_type": "stream",
     "text": [
      "Actual Y: [0 0 0 0 1 0 1 1 0 1 1 1 0 1 1 0 1 1 0 0 0 0 1 0 0]\n",
      "Predict Y: [0 0 0 0 1 0 0 1 0 0 0 0 0 1 0 1 0 0 0 0 0 0 1 0 0]\n"
     ]
    }
   ],
   "source": [
    "# to print actual and predicted data for comparison\n",
    "print('Actual Y:', ytest[:25].values)\n",
    "print('Predict Y:', ypred[:25])"
   ]
  },
  {
   "cell_type": "code",
   "execution_count": 23,
   "id": "00af00a6",
   "metadata": {},
   "outputs": [],
   "source": [
    "#to get values or accuracy\n",
    "from sklearn.metrics import classification_report,confusion_matrix"
   ]
  },
  {
   "cell_type": "code",
   "execution_count": 24,
   "id": "65f78cbe",
   "metadata": {},
   "outputs": [
    {
     "name": "stdout",
     "output_type": "stream",
     "text": [
      "              precision    recall  f1-score   support\n",
      "\n",
      "           0       0.65      0.76      0.70       140\n",
      "           1       0.68      0.55      0.61       128\n",
      "\n",
      "    accuracy                           0.66       268\n",
      "   macro avg       0.66      0.66      0.65       268\n",
      "weighted avg       0.66      0.66      0.66       268\n",
      "\n"
     ]
    }
   ],
   "source": [
    "print(classification_report(ytest,ypred))"
   ]
  },
  {
   "cell_type": "code",
   "execution_count": 25,
   "id": "00c2137f",
   "metadata": {},
   "outputs": [
    {
     "data": {
      "text/plain": [
       "array([[106,  34],\n",
       "       [ 57,  71]], dtype=int64)"
      ]
     },
     "execution_count": 25,
     "metadata": {},
     "output_type": "execute_result"
    }
   ],
   "source": [
    "confusion_matrix(ytest,ypred)"
   ]
  },
  {
   "cell_type": "code",
   "execution_count": 26,
   "id": "fc1399f1",
   "metadata": {},
   "outputs": [
    {
     "data": {
      "text/plain": [
       "Text(50.722222222222214, 0.5, 'Predicted Values')"
      ]
     },
     "execution_count": 26,
     "metadata": {},
     "output_type": "execute_result"
    },
    {
     "data": {
      "image/png": "[encoded data removed]",
      "text/plain": [
       "<Figure size 640x480 with 2 Axes>"
      ]
     },
     "metadata": {},
     "output_type": "display_data"
    }
   ],
   "source": [
    "# heatmap is also used to get confusion matrix values\n",
    "sns.heatmap(confusion_matrix(ytest,ypred), annot=True)\n",
    "plt.xlabel('Actual Values')\n",
    "plt.ylabel('Predicted Values')"
   ]
  },
  {
   "cell_type": "code",
   "execution_count": 27,
   "id": "bceadffe",
   "metadata": {},
   "outputs": [
    {
     "name": "stdout",
     "output_type": "stream",
     "text": [
      "[0 0 0 0 1 0 1 1 0 1 1 1 0 1 1 0 1 1 0 0 0 0 1 0 0]\n",
      "[0 0 0 0 1 0 0 1 0 0 0 0 0 1 0 1 0 0 0 0 0 0 1 0 0]\n"
     ]
    }
   ],
   "source": [
    "print(ytest[:25].values)\n",
    "print(ypred[:25])"
   ]
  },
  {
   "cell_type": "markdown",
   "id": "32cd6c77",
   "metadata": {},
   "source": [
    "# Threeshold Selection"
   ]
  },
  {
   "cell_type": "code",
   "execution_count": 28,
   "id": "62aa1521",
   "metadata": {},
   "outputs": [
    {
     "data": {
      "text/plain": [
       "array([[6.98844643e-01, 3.01155357e-01],\n",
       "       [6.86182830e-01, 3.13817170e-01],\n",
       "       [5.47369649e-01, 4.52630351e-01],\n",
       "       [6.07956362e-01, 3.92043638e-01],\n",
       "       [3.98302131e-01, 6.01697869e-01],\n",
       "       [6.28380117e-01, 3.71619883e-01],\n",
       "       [7.10495844e-01, 2.89504156e-01],\n",
       "       [4.51245912e-01, 5.48754088e-01],\n",
       "       [6.66887690e-01, 3.33112310e-01],\n",
       "       [6.66730957e-01, 3.33269043e-01],\n",
       "       [5.53154363e-01, 4.46845637e-01],\n",
       "       [6.08463094e-01, 3.91536906e-01],\n",
       "       [6.03492620e-01, 3.96507380e-01],\n",
       "       [4.16484522e-01, 5.83515478e-01],\n",
       "       [6.67885298e-01, 3.32114702e-01],\n",
       "       [4.31416304e-01, 5.68583696e-01],\n",
       "       [5.68814341e-01, 4.31185659e-01],\n",
       "       [5.34157732e-01, 4.65842268e-01],\n",
       "       [6.43301571e-01, 3.56698429e-01],\n",
       "       [6.71259851e-01, 3.28740149e-01],\n",
       "       [6.82943384e-01, 3.17056616e-01],\n",
       "       [5.90994499e-01, 4.09005501e-01],\n",
       "       [3.67403384e-01, 6.32596616e-01],\n",
       "       [5.88743726e-01, 4.11256274e-01],\n",
       "       [5.95325712e-01, 4.04674288e-01],\n",
       "       [6.36107343e-01, 3.63892657e-01],\n",
       "       [7.05952060e-01, 2.94047940e-01],\n",
       "       [6.20024514e-01, 3.79975486e-01],\n",
       "       [5.92442639e-01, 4.07557361e-01],\n",
       "       [6.84504963e-01, 3.15495037e-01],\n",
       "       [5.86715708e-01, 4.13284292e-01],\n",
       "       [6.41787117e-01, 3.58212883e-01],\n",
       "       [5.74442060e-01, 4.25557940e-01],\n",
       "       [2.67922087e-01, 7.32077913e-01],\n",
       "       [2.34979045e-01, 7.65020955e-01],\n",
       "       [6.03549184e-01, 3.96450816e-01],\n",
       "       [3.50606568e-01, 6.49393432e-01],\n",
       "       [4.60797454e-01, 5.39202546e-01],\n",
       "       [6.52448081e-01, 3.47551919e-01],\n",
       "       [6.91640907e-01, 3.08359093e-01],\n",
       "       [6.77575122e-01, 3.22424878e-01],\n",
       "       [9.55759613e-05, 9.99904424e-01],\n",
       "       [5.15072485e-01, 4.84927515e-01],\n",
       "       [5.24710147e-01, 4.75289853e-01],\n",
       "       [5.61503620e-01, 4.38496380e-01],\n",
       "       [3.88719541e-01, 6.11280459e-01],\n",
       "       [7.32832740e-01, 2.67167260e-01],\n",
       "       [6.81123309e-01, 3.18876691e-01],\n",
       "       [6.25637992e-01, 3.74362008e-01],\n",
       "       [5.81661729e-01, 4.18338271e-01],\n",
       "       [5.71540614e-01, 4.28459386e-01],\n",
       "       [6.82583311e-01, 3.17416689e-01],\n",
       "       [6.85040925e-01, 3.14959075e-01],\n",
       "       [5.78371098e-01, 4.21628902e-01],\n",
       "       [5.46496919e-01, 4.53503081e-01],\n",
       "       [6.26794289e-01, 3.73205711e-01],\n",
       "       [2.75110591e-01, 7.24889409e-01],\n",
       "       [6.56092778e-01, 3.43907222e-01],\n",
       "       [1.61555787e-01, 8.38444213e-01],\n",
       "       [6.58242132e-01, 3.41757868e-01],\n",
       "       [4.10513422e-01, 5.89486578e-01],\n",
       "       [3.49279305e-01, 6.50720695e-01],\n",
       "       [6.28380117e-01, 3.71619883e-01],\n",
       "       [8.52001045e-02, 9.14799895e-01],\n",
       "       [3.96514350e-01, 6.03485650e-01],\n",
       "       [1.30949278e-01, 8.69050722e-01],\n",
       "       [6.60657793e-01, 3.39342207e-01],\n",
       "       [1.16256554e-01, 8.83743446e-01],\n",
       "       [4.56242588e-01, 5.43757412e-01],\n",
       "       [1.41665207e-01, 8.58334793e-01],\n",
       "       [2.59201465e-01, 7.40798535e-01],\n",
       "       [3.39585498e-01, 6.60414502e-01],\n",
       "       [6.88973001e-01, 3.11026999e-01],\n",
       "       [5.85336767e-01, 4.14663233e-01],\n",
       "       [3.58664838e-01, 6.41335162e-01],\n",
       "       [6.95862034e-01, 3.04137966e-01],\n",
       "       [1.37201459e-01, 8.62798541e-01],\n",
       "       [6.67275416e-01, 3.32724584e-01],\n",
       "       [6.79427054e-01, 3.20572946e-01],\n",
       "       [7.17354139e-01, 2.82645861e-01],\n",
       "       [6.76302262e-01, 3.23697738e-01],\n",
       "       [5.31931428e-01, 4.68068572e-01],\n",
       "       [3.26591483e-01, 6.73408517e-01],\n",
       "       [5.17074660e-01, 4.82925340e-01],\n",
       "       [5.74282648e-01, 4.25717352e-01],\n",
       "       [4.87890091e-01, 5.12109909e-01],\n",
       "       [2.20020160e-01, 7.79979840e-01],\n",
       "       [2.94849263e-01, 7.05150737e-01],\n",
       "       [7.01758494e-01, 2.98241506e-01],\n",
       "       [8.59984364e-02, 9.14001564e-01],\n",
       "       [6.41960074e-01, 3.58039926e-01],\n",
       "       [6.20939600e-01, 3.79060400e-01],\n",
       "       [3.24267728e-01, 6.75732272e-01],\n",
       "       [6.99542931e-01, 3.00457069e-01],\n",
       "       [5.53394479e-01, 4.46605521e-01],\n",
       "       [6.59167846e-01, 3.40832154e-01],\n",
       "       [6.31022967e-01, 3.68977033e-01],\n",
       "       [3.84254210e-01, 6.15745790e-01],\n",
       "       [3.69557220e-01, 6.30442780e-01],\n",
       "       [3.27189641e-01, 6.72810359e-01],\n",
       "       [3.29430138e-01, 6.70569862e-01],\n",
       "       [3.95403849e-01, 6.04596151e-01],\n",
       "       [4.10943678e-01, 5.89056322e-01],\n",
       "       [4.98876139e-01, 5.01123861e-01],\n",
       "       [4.35065465e-01, 5.64934535e-01],\n",
       "       [3.03930597e-01, 6.96069403e-01],\n",
       "       [5.89928827e-01, 4.10071173e-01],\n",
       "       [7.26095088e-01, 2.73904912e-01],\n",
       "       [4.70007290e-01, 5.29992710e-01],\n",
       "       [2.46155250e-01, 7.53844750e-01],\n",
       "       [6.51899386e-05, 9.99934810e-01],\n",
       "       [6.79988726e-01, 3.20011274e-01],\n",
       "       [5.94870760e-01, 4.05129240e-01],\n",
       "       [6.45845167e-01, 3.54154833e-01],\n",
       "       [3.48879732e-01, 6.51120268e-01],\n",
       "       [4.06817539e-01, 5.93182461e-01],\n",
       "       [5.20602979e-01, 4.79397021e-01],\n",
       "       [6.78247791e-01, 3.21752209e-01],\n",
       "       [6.68395138e-01, 3.31604862e-01],\n",
       "       [6.72514395e-01, 3.27485605e-01],\n",
       "       [1.90395959e-01, 8.09604041e-01],\n",
       "       [6.16744376e-01, 3.83255624e-01],\n",
       "       [6.49046609e-01, 3.50953391e-01],\n",
       "       [5.29637715e-01, 4.70362285e-01],\n",
       "       [6.09663835e-01, 3.90336165e-01],\n",
       "       [6.50728819e-01, 3.49271181e-01],\n",
       "       [3.20979807e-01, 6.79020193e-01],\n",
       "       [5.94300943e-01, 4.05699057e-01],\n",
       "       [5.84536343e-01, 4.15463657e-01],\n",
       "       [6.65107103e-01, 3.34892897e-01],\n",
       "       [3.78328845e-02, 9.62167115e-01],\n",
       "       [4.86002654e-01, 5.13997346e-01],\n",
       "       [5.69663011e-01, 4.30336989e-01],\n",
       "       [6.57948517e-01, 3.42051483e-01],\n",
       "       [2.52288285e-01, 7.47711715e-01],\n",
       "       [7.01224639e-01, 2.98775361e-01],\n",
       "       [9.14173889e-02, 9.08582611e-01],\n",
       "       [6.04116507e-01, 3.95883493e-01],\n",
       "       [4.37604408e-01, 5.62395592e-01],\n",
       "       [6.39468627e-01, 3.60531373e-01],\n",
       "       [6.98778933e-01, 3.01221067e-01],\n",
       "       [7.05354508e-01, 2.94645492e-01],\n",
       "       [5.83964735e-01, 4.16035265e-01],\n",
       "       [6.77008890e-01, 3.22991110e-01],\n",
       "       [6.85040925e-01, 3.14959075e-01],\n",
       "       [6.48281001e-01, 3.51718999e-01],\n",
       "       [6.77381956e-01, 3.22618044e-01],\n",
       "       [3.93383404e-01, 6.06616596e-01],\n",
       "       [1.81010545e-01, 8.18989455e-01],\n",
       "       [2.34957576e-01, 7.65042424e-01],\n",
       "       [6.81700735e-01, 3.18299265e-01],\n",
       "       [2.54350865e-01, 7.45649135e-01],\n",
       "       [3.07454018e-09, 9.99999997e-01],\n",
       "       [3.46293611e-01, 6.53706389e-01],\n",
       "       [6.33715302e-13, 1.00000000e+00],\n",
       "       [2.34989381e-01, 7.65010619e-01],\n",
       "       [3.82205249e-01, 6.17794751e-01],\n",
       "       [6.93433255e-01, 3.06566745e-01],\n",
       "       [5.85463474e-01, 4.14536526e-01],\n",
       "       [4.72310903e-01, 5.27689097e-01],\n",
       "       [6.36406200e-01, 3.63593800e-01],\n",
       "       [2.33207417e-01, 7.66792583e-01],\n",
       "       [6.19437337e-01, 3.80562663e-01],\n",
       "       [2.05881910e-02, 9.79411809e-01],\n",
       "       [5.76764585e-01, 4.23235415e-01],\n",
       "       [4.39922978e-01, 5.60077022e-01],\n",
       "       [3.99281085e-01, 6.00718915e-01],\n",
       "       [6.38663159e-01, 3.61336841e-01],\n",
       "       [7.02605904e-01, 2.97394096e-01],\n",
       "       [5.86459635e-01, 4.13540365e-01],\n",
       "       [3.77599091e-01, 6.22400909e-01],\n",
       "       [5.99384705e-01, 4.00615295e-01],\n",
       "       [8.78846412e-02, 9.12115359e-01],\n",
       "       [6.32551537e-01, 3.67448463e-01],\n",
       "       [5.54917273e-01, 4.45082727e-01],\n",
       "       [6.59312229e-01, 3.40687771e-01],\n",
       "       [5.66708196e-01, 4.33291804e-01],\n",
       "       [6.15482580e-01, 3.84517420e-01],\n",
       "       [6.71259851e-01, 3.28740149e-01],\n",
       "       [6.25979314e-01, 3.74020686e-01],\n",
       "       [5.78959873e-01, 4.21040127e-01],\n",
       "       [7.23966359e-01, 2.76033641e-01],\n",
       "       [5.96627901e-01, 4.03372099e-01],\n",
       "       [3.39104872e-01, 6.60895128e-01],\n",
       "       [5.82149403e-01, 4.17850597e-01],\n",
       "       [3.23274242e-01, 6.76725758e-01],\n",
       "       [5.93148251e-01, 4.06851749e-01],\n",
       "       [5.87487661e-01, 4.12512339e-01],\n",
       "       [6.52713410e-01, 3.47286590e-01],\n",
       "       [4.89495452e-01, 5.10504548e-01],\n",
       "       [6.70748216e-01, 3.29251784e-01],\n",
       "       [6.80775293e-01, 3.19224707e-01],\n",
       "       [4.36226851e-01, 5.63773149e-01],\n",
       "       [6.63487055e-01, 3.36512945e-01],\n",
       "       [6.50036854e-01, 3.49963146e-01],\n",
       "       [2.62990175e-01, 7.37009825e-01],\n",
       "       [4.36187611e-01, 5.63812389e-01],\n",
       "       [2.45106709e-01, 7.54893291e-01],\n",
       "       [5.41993130e-01, 4.58006870e-01],\n",
       "       [4.35156124e-01, 5.64843876e-01],\n",
       "       [5.90276510e-01, 4.09723490e-01],\n",
       "       [6.92096501e-01, 3.07903499e-01],\n",
       "       [6.85792446e-01, 3.14207554e-01],\n",
       "       [6.69604853e-01, 3.30395147e-01],\n",
       "       [4.35952253e-01, 5.64047747e-01],\n",
       "       [6.15017375e-01, 3.84982625e-01],\n",
       "       [7.23320479e-01, 2.76679521e-01],\n",
       "       [4.69823231e-01, 5.30176769e-01],\n",
       "       [2.92140044e-01, 7.07859956e-01],\n",
       "       [5.22367083e-01, 4.77632917e-01],\n",
       "       [6.41981025e-01, 3.58018975e-01],\n",
       "       [7.12534717e-01, 2.87465283e-01],\n",
       "       [1.01572725e-01, 8.98427275e-01],\n",
       "       [6.15512564e-01, 3.84487436e-01],\n",
       "       [6.72516300e-01, 3.27483700e-01],\n",
       "       [5.42328011e-01, 4.57671989e-01],\n",
       "       [4.65345517e-01, 5.34654483e-01],\n",
       "       [5.76008694e-01, 4.23991306e-01],\n",
       "       [6.91177957e-01, 3.08822043e-01],\n",
       "       [6.04033076e-01, 3.95966924e-01],\n",
       "       [4.64746469e-01, 5.35253531e-01],\n",
       "       [5.63641097e-01, 4.36358903e-01],\n",
       "       [5.66310569e-01, 4.33689431e-01],\n",
       "       [7.04952335e-01, 2.95047665e-01],\n",
       "       [3.76374044e-01, 6.23625956e-01],\n",
       "       [6.46158276e-01, 3.53841724e-01],\n",
       "       [3.46996512e-01, 6.53003488e-01],\n",
       "       [2.09668332e-05, 9.99979033e-01],\n",
       "       [6.20024514e-01, 3.79975486e-01],\n",
       "       [7.53192997e-01, 2.46807003e-01],\n",
       "       [5.86323762e-01, 4.13676238e-01],\n",
       "       [5.63085853e-01, 4.36914147e-01],\n",
       "       [6.05449113e-01, 3.94550887e-01],\n",
       "       [2.45495587e-01, 7.54504413e-01],\n",
       "       [2.78446742e-01, 7.21553258e-01],\n",
       "       [6.67368851e-01, 3.32631149e-01],\n",
       "       [6.94751320e-01, 3.05248680e-01],\n",
       "       [5.73564745e-01, 4.26435255e-01],\n",
       "       [3.94949059e-01, 6.05050941e-01],\n",
       "       [5.57188744e-01, 4.42811256e-01],\n",
       "       [6.43410049e-01, 3.56589951e-01],\n",
       "       [6.49476571e-01, 3.50523429e-01],\n",
       "       [4.73722461e-01, 5.26277539e-01],\n",
       "       [6.20197223e-01, 3.79802777e-01],\n",
       "       [1.36243547e-01, 8.63756453e-01],\n",
       "       [4.15983495e-01, 5.84016505e-01],\n",
       "       [4.80342080e-01, 5.19657920e-01],\n",
       "       [4.75201469e-01, 5.24798531e-01],\n",
       "       [5.60469940e-01, 4.39530060e-01],\n",
       "       [4.01785089e-01, 5.98214911e-01],\n",
       "       [1.09053070e-08, 9.99999989e-01],\n",
       "       [5.61658820e-01, 4.38341180e-01],\n",
       "       [3.27000791e-01, 6.72999209e-01],\n",
       "       [4.02807755e-01, 5.97192245e-01],\n",
       "       [3.58921536e-01, 6.41078464e-01],\n",
       "       [4.97058098e-01, 5.02941902e-01],\n",
       "       [4.34294483e-01, 5.65705517e-01],\n",
       "       [6.74301020e-01, 3.25698980e-01],\n",
       "       [4.19151765e-01, 5.80848235e-01],\n",
       "       [4.32971256e-01, 5.67028744e-01],\n",
       "       [1.50022660e-01, 8.49977340e-01],\n",
       "       [6.08515755e-01, 3.91484245e-01],\n",
       "       [3.31075643e-01, 6.68924357e-01],\n",
       "       [6.45051064e-01, 3.54948936e-01],\n",
       "       [5.80701850e-01, 4.19298150e-01],\n",
       "       [5.74734349e-01, 4.25265651e-01],\n",
       "       [4.44089210e-16, 1.00000000e+00],\n",
       "       [6.54182700e-01, 3.45817300e-01]])"
      ]
     },
     "execution_count": 28,
     "metadata": {},
     "output_type": "execute_result"
    }
   ],
   "source": [
    "lg.predict_proba(xtest)"
   ]
  },
  {
   "cell_type": "code",
   "execution_count": 29,
   "id": "bbffd7e1",
   "metadata": {},
   "outputs": [
    {
     "data": {
      "text/plain": [
       "array([0.30115536, 0.31381717, 0.45263035, 0.39204364, 0.60169787,\n",
       "       0.37161988, 0.28950416, 0.54875409, 0.33311231, 0.33326904,\n",
       "       0.44684564, 0.39153691, 0.39650738, 0.58351548, 0.3321147 ,\n",
       "       0.5685837 , 0.43118566, 0.46584227, 0.35669843, 0.32874015,\n",
       "       0.31705662, 0.4090055 , 0.63259662, 0.41125627, 0.40467429,\n",
       "       0.36389266, 0.29404794, 0.37997549, 0.40755736, 0.31549504,\n",
       "       0.41328429, 0.35821288, 0.42555794, 0.73207791, 0.76502096,\n",
       "       0.39645082, 0.64939343, 0.53920255, 0.34755192, 0.30835909,\n",
       "       0.32242488, 0.99990442, 0.48492752, 0.47528985, 0.43849638,\n",
       "       0.61128046, 0.26716726, 0.31887669, 0.37436201, 0.41833827,\n",
       "       0.42845939, 0.31741669, 0.31495908, 0.4216289 , 0.45350308,\n",
       "       0.37320571, 0.72488941, 0.34390722, 0.83844421, 0.34175787,\n",
       "       0.58948658, 0.6507207 , 0.37161988, 0.9147999 , 0.60348565,\n",
       "       0.86905072, 0.33934221, 0.88374345, 0.54375741, 0.85833479,\n",
       "       0.74079853, 0.6604145 , 0.311027  , 0.41466323, 0.64133516,\n",
       "       0.30413797, 0.86279854, 0.33272458, 0.32057295, 0.28264586,\n",
       "       0.32369774, 0.46806857, 0.67340852, 0.48292534, 0.42571735,\n",
       "       0.51210991, 0.77997984, 0.70515074, 0.29824151, 0.91400156,\n",
       "       0.35803993, 0.3790604 , 0.67573227, 0.30045707, 0.44660552,\n",
       "       0.34083215, 0.36897703, 0.61574579, 0.63044278, 0.67281036,\n",
       "       0.67056986, 0.60459615, 0.58905632, 0.50112386, 0.56493454,\n",
       "       0.6960694 , 0.41007117, 0.27390491, 0.52999271, 0.75384475,\n",
       "       0.99993481, 0.32001127, 0.40512924, 0.35415483, 0.65112027,\n",
       "       0.59318246, 0.47939702, 0.32175221, 0.33160486, 0.32748561,\n",
       "       0.80960404, 0.38325562, 0.35095339, 0.47036228, 0.39033616,\n",
       "       0.34927118, 0.67902019, 0.40569906, 0.41546366, 0.3348929 ,\n",
       "       0.96216712, 0.51399735, 0.43033699, 0.34205148, 0.74771171,\n",
       "       0.29877536, 0.90858261, 0.39588349, 0.56239559, 0.36053137,\n",
       "       0.30122107, 0.29464549, 0.41603527, 0.32299111, 0.31495908,\n",
       "       0.351719  , 0.32261804, 0.6066166 , 0.81898945, 0.76504242,\n",
       "       0.31829926, 0.74564914, 1.        , 0.65370639, 1.        ,\n",
       "       0.76501062, 0.61779475, 0.30656674, 0.41453653, 0.5276891 ,\n",
       "       0.3635938 , 0.76679258, 0.38056266, 0.97941181, 0.42323541,\n",
       "       0.56007702, 0.60071892, 0.36133684, 0.2973941 , 0.41354037,\n",
       "       0.62240091, 0.4006153 , 0.91211536, 0.36744846, 0.44508273,\n",
       "       0.34068777, 0.4332918 , 0.38451742, 0.32874015, 0.37402069,\n",
       "       0.42104013, 0.27603364, 0.4033721 , 0.66089513, 0.4178506 ,\n",
       "       0.67672576, 0.40685175, 0.41251234, 0.34728659, 0.51050455,\n",
       "       0.32925178, 0.31922471, 0.56377315, 0.33651294, 0.34996315,\n",
       "       0.73700982, 0.56381239, 0.75489329, 0.45800687, 0.56484388,\n",
       "       0.40972349, 0.3079035 , 0.31420755, 0.33039515, 0.56404775,\n",
       "       0.38498263, 0.27667952, 0.53017677, 0.70785996, 0.47763292,\n",
       "       0.35801897, 0.28746528, 0.89842727, 0.38448744, 0.3274837 ,\n",
       "       0.45767199, 0.53465448, 0.42399131, 0.30882204, 0.39596692,\n",
       "       0.53525353, 0.4363589 , 0.43368943, 0.29504766, 0.62362596,\n",
       "       0.35384172, 0.65300349, 0.99997903, 0.37997549, 0.246807  ,\n",
       "       0.41367624, 0.43691415, 0.39455089, 0.75450441, 0.72155326,\n",
       "       0.33263115, 0.30524868, 0.42643525, 0.60505094, 0.44281126,\n",
       "       0.35658995, 0.35052343, 0.52627754, 0.37980278, 0.86375645,\n",
       "       0.58401651, 0.51965792, 0.52479853, 0.43953006, 0.59821491,\n",
       "       0.99999999, 0.43834118, 0.67299921, 0.59719225, 0.64107846,\n",
       "       0.5029419 , 0.56570552, 0.32569898, 0.58084824, 0.56702874,\n",
       "       0.84997734, 0.39148425, 0.66892436, 0.35494894, 0.41929815,\n",
       "       0.42526565, 1.        , 0.3458173 ])"
      ]
     },
     "execution_count": 29,
     "metadata": {},
     "output_type": "execute_result"
    }
   ],
   "source": [
    "proba = lg.predict_proba(xtest)[:,1]\n",
    "proba"
   ]
  },
  {
   "cell_type": "code",
   "execution_count": 30,
   "id": "4cd9698d",
   "metadata": {},
   "outputs": [],
   "source": [
    "# for Calculating Threeshold we use roc auc curve\n",
    "from sklearn.metrics import roc_auc_score, roc_curve, accuracy_score"
   ]
  },
  {
   "cell_type": "code",
   "execution_count": 31,
   "id": "cb816f79",
   "metadata": {},
   "outputs": [
    {
     "data": {
      "text/plain": [
       "<matplotlib.legend.Legend at 0x1c13b1f9b20>"
      ]
     },
     "execution_count": 31,
     "metadata": {},
     "output_type": "execute_result"
    },
    {
     "data": {
      "image/png": "[encoded data removed]",
      "text/plain": [
       "<Figure size 640x480 with 1 Axes>"
      ]
     },
     "metadata": {},
     "output_type": "display_data"
    }
   ],
   "source": [
    "auc = roc_auc_score(ytest,proba)\n",
    "\n",
    "fpr,tpr, threshold = roc_curve(ytest,proba)\n",
    "\n",
    "plt.plot(fpr,tpr,label = '(AUC = %0.2f)'%auc)\n",
    "plt.legend()\n",
    "#plot gives area under curve if auc value is more then we can say that model is good"
   ]
  },
  {
   "cell_type": "code",
   "execution_count": 32,
   "id": "9fe6ad5b",
   "metadata": {},
   "outputs": [
    {
     "data": {
      "text/plain": [
       "0.7235770089285714"
      ]
     },
     "execution_count": 32,
     "metadata": {},
     "output_type": "execute_result"
    }
   ],
   "source": [
    "auc"
   ]
  },
  {
   "cell_type": "code",
   "execution_count": 33,
   "id": "56437026",
   "metadata": {},
   "outputs": [
    {
     "data": {
      "text/plain": [
       "array([2.        , 1.        , 0.9147999 , 0.91400156, 0.90858261,\n",
       "       0.86905072, 0.84997734, 0.83844421, 0.76679258, 0.76504242,\n",
       "       0.75450441, 0.75384475, 0.74564914, 0.74079853, 0.72488941,\n",
       "       0.72155326, 0.70515074, 0.6960694 , 0.65112027, 0.6507207 ,\n",
       "       0.64939343, 0.64107846, 0.63259662, 0.62362596, 0.61779475,\n",
       "       0.61574579, 0.60505094, 0.60348565, 0.60071892, 0.59318246,\n",
       "       0.58905632, 0.58401651, 0.58084824, 0.5685837 , 0.56493454,\n",
       "       0.56484388, 0.56404775, 0.56239559, 0.54375741, 0.53920255,\n",
       "       0.53525353, 0.52627754, 0.5029419 , 0.48492752, 0.45350308,\n",
       "       0.45263035, 0.44684564, 0.44508273, 0.43834118, 0.43691415,\n",
       "       0.43118566, 0.42643525, 0.42571735, 0.42555794, 0.42526565,\n",
       "       0.42323541, 0.4216289 , 0.42104013, 0.41833827, 0.4178506 ,\n",
       "       0.41603527, 0.41125627, 0.41007117, 0.39204364, 0.39153691,\n",
       "       0.39148425, 0.38498263, 0.38325562, 0.38056266, 0.37997549,\n",
       "       0.3790604 , 0.37402069, 0.37320571, 0.37161988, 0.36744846,\n",
       "       0.36389266, 0.3635938 , 0.35821288, 0.35803993, 0.35658995,\n",
       "       0.35494894, 0.35415483, 0.35384172, 0.34927118, 0.34755192,\n",
       "       0.34728659, 0.3458173 , 0.34205148, 0.34175787, 0.33651294,\n",
       "       0.33326904, 0.33263115, 0.3321147 , 0.32925178, 0.32874015,\n",
       "       0.32369774, 0.32299111, 0.32242488, 0.32057295, 0.32001127,\n",
       "       0.31549504, 0.31495908, 0.30882204, 0.30835909, 0.30656674,\n",
       "       0.30413797, 0.2973941 , 0.29504766, 0.29404794, 0.28950416,\n",
       "       0.246807  ])"
      ]
     },
     "execution_count": 33,
     "metadata": {},
     "output_type": "execute_result"
    }
   ],
   "source": [
    "threshold"
   ]
  },
  {
   "cell_type": "code",
   "execution_count": 34,
   "id": "42f4812a",
   "metadata": {},
   "outputs": [
    {
     "data": {
      "text/plain": [
       "111"
      ]
     },
     "execution_count": 34,
     "metadata": {},
     "output_type": "execute_result"
    }
   ],
   "source": [
    "len(threshold)"
   ]
  },
  {
   "cell_type": "code",
   "execution_count": 35,
   "id": "9683a9e7",
   "metadata": {},
   "outputs": [],
   "source": [
    "\n",
    "accuracy = []\n",
    "\n",
    "for i in threshold:\n",
    "    ypred = np.where(proba>i,1,0)  #if probability is greater than threeshold it written 1 ow 0\n",
    "    accuracy.append(accuracy_score(ytest,ypred))  #to write or append accuracy in empty box\n",
    "\n",
    "final_threshold = pd.concat([pd.Series(threshold),pd.Series(accuracy)], axis=1)   # pd.concat is used to join two series #use axis for get values in column\n",
    "final_threshold.columns = ['Threshold','Accuracy'] #column name"
   ]
  },
  {
   "cell_type": "code",
   "execution_count": 36,
   "id": "ede10fc6",
   "metadata": {},
   "outputs": [
    {
     "data": {
      "text/html": [
       "<div>\n",
       "<style scoped>\n",
       "    .dataframe tbody tr th:only-of-type {\n",
       "        vertical-align: middle;\n",
       "    }\n",
       "\n",
       "    .dataframe tbody tr th {\n",
       "        vertical-align: top;\n",
       "    }\n",
       "\n",
       "    .dataframe thead th {\n",
       "        text-align: right;\n",
       "    }\n",
       "</style>\n",
       "<table border=\"1\" class=\"dataframe\">\n",
       "  <thead>\n",
       "    <tr style=\"text-align: right;\">\n",
       "      <th></th>\n",
       "      <th>Threshold</th>\n",
       "      <th>Accuracy</th>\n",
       "    </tr>\n",
       "  </thead>\n",
       "  <tbody>\n",
       "    <tr>\n",
       "      <th>50</th>\n",
       "      <td>0.431186</td>\n",
       "      <td>0.708955</td>\n",
       "    </tr>\n",
       "    <tr>\n",
       "      <th>51</th>\n",
       "      <td>0.426435</td>\n",
       "      <td>0.705224</td>\n",
       "    </tr>\n",
       "    <tr>\n",
       "      <th>59</th>\n",
       "      <td>0.417851</td>\n",
       "      <td>0.705224</td>\n",
       "    </tr>\n",
       "    <tr>\n",
       "      <th>53</th>\n",
       "      <td>0.425558</td>\n",
       "      <td>0.705224</td>\n",
       "    </tr>\n",
       "    <tr>\n",
       "      <th>49</th>\n",
       "      <td>0.436914</td>\n",
       "      <td>0.701493</td>\n",
       "    </tr>\n",
       "    <tr>\n",
       "      <th>...</th>\n",
       "      <td>...</td>\n",
       "      <td>...</td>\n",
       "    </tr>\n",
       "    <tr>\n",
       "      <th>106</th>\n",
       "      <td>0.297394</td>\n",
       "      <td>0.507463</td>\n",
       "    </tr>\n",
       "    <tr>\n",
       "      <th>107</th>\n",
       "      <td>0.295048</td>\n",
       "      <td>0.503731</td>\n",
       "    </tr>\n",
       "    <tr>\n",
       "      <th>108</th>\n",
       "      <td>0.294048</td>\n",
       "      <td>0.503731</td>\n",
       "    </tr>\n",
       "    <tr>\n",
       "      <th>109</th>\n",
       "      <td>0.289504</td>\n",
       "      <td>0.500000</td>\n",
       "    </tr>\n",
       "    <tr>\n",
       "      <th>110</th>\n",
       "      <td>0.246807</td>\n",
       "      <td>0.481343</td>\n",
       "    </tr>\n",
       "  </tbody>\n",
       "</table>\n",
       "<p>111 rows × 2 columns</p>\n",
       "</div>"
      ],
      "text/plain": [
       "     Threshold  Accuracy\n",
       "50    0.431186  0.708955\n",
       "51    0.426435  0.705224\n",
       "59    0.417851  0.705224\n",
       "53    0.425558  0.705224\n",
       "49    0.436914  0.701493\n",
       "..         ...       ...\n",
       "106   0.297394  0.507463\n",
       "107   0.295048  0.503731\n",
       "108   0.294048  0.503731\n",
       "109   0.289504  0.500000\n",
       "110   0.246807  0.481343\n",
       "\n",
       "[111 rows x 2 columns]"
      ]
     },
     "execution_count": 36,
     "metadata": {},
     "output_type": "execute_result"
    }
   ],
   "source": [
    "\n",
    "#accuracy in increasing order\n",
    "final_threshold.sort_values(by='Accuracy', ascending=False)"
   ]
  },
  {
   "cell_type": "code",
   "execution_count": 37,
   "id": "42c72504",
   "metadata": {},
   "outputs": [],
   "source": [
    "from sklearn.preprocessing import binarize #for chnge the threshold value "
   ]
  },
  {
   "cell_type": "code",
   "execution_count": 38,
   "id": "5dc48715",
   "metadata": {},
   "outputs": [
    {
     "data": {
      "text/plain": [
       "array([0.30115536, 0.31381717, 0.45263035, 0.39204364, 0.60169787,\n",
       "       0.37161988, 0.28950416, 0.54875409, 0.33311231, 0.33326904,\n",
       "       0.44684564, 0.39153691, 0.39650738, 0.58351548, 0.3321147 ,\n",
       "       0.5685837 , 0.43118566, 0.46584227, 0.35669843, 0.32874015,\n",
       "       0.31705662, 0.4090055 , 0.63259662, 0.41125627, 0.40467429,\n",
       "       0.36389266, 0.29404794, 0.37997549, 0.40755736, 0.31549504,\n",
       "       0.41328429, 0.35821288, 0.42555794, 0.73207791, 0.76502096,\n",
       "       0.39645082, 0.64939343, 0.53920255, 0.34755192, 0.30835909,\n",
       "       0.32242488, 0.99990442, 0.48492752, 0.47528985, 0.43849638,\n",
       "       0.61128046, 0.26716726, 0.31887669, 0.37436201, 0.41833827,\n",
       "       0.42845939, 0.31741669, 0.31495908, 0.4216289 , 0.45350308,\n",
       "       0.37320571, 0.72488941, 0.34390722, 0.83844421, 0.34175787,\n",
       "       0.58948658, 0.6507207 , 0.37161988, 0.9147999 , 0.60348565,\n",
       "       0.86905072, 0.33934221, 0.88374345, 0.54375741, 0.85833479,\n",
       "       0.74079853, 0.6604145 , 0.311027  , 0.41466323, 0.64133516,\n",
       "       0.30413797, 0.86279854, 0.33272458, 0.32057295, 0.28264586,\n",
       "       0.32369774, 0.46806857, 0.67340852, 0.48292534, 0.42571735,\n",
       "       0.51210991, 0.77997984, 0.70515074, 0.29824151, 0.91400156,\n",
       "       0.35803993, 0.3790604 , 0.67573227, 0.30045707, 0.44660552,\n",
       "       0.34083215, 0.36897703, 0.61574579, 0.63044278, 0.67281036,\n",
       "       0.67056986, 0.60459615, 0.58905632, 0.50112386, 0.56493454,\n",
       "       0.6960694 , 0.41007117, 0.27390491, 0.52999271, 0.75384475,\n",
       "       0.99993481, 0.32001127, 0.40512924, 0.35415483, 0.65112027,\n",
       "       0.59318246, 0.47939702, 0.32175221, 0.33160486, 0.32748561,\n",
       "       0.80960404, 0.38325562, 0.35095339, 0.47036228, 0.39033616,\n",
       "       0.34927118, 0.67902019, 0.40569906, 0.41546366, 0.3348929 ,\n",
       "       0.96216712, 0.51399735, 0.43033699, 0.34205148, 0.74771171,\n",
       "       0.29877536, 0.90858261, 0.39588349, 0.56239559, 0.36053137,\n",
       "       0.30122107, 0.29464549, 0.41603527, 0.32299111, 0.31495908,\n",
       "       0.351719  , 0.32261804, 0.6066166 , 0.81898945, 0.76504242,\n",
       "       0.31829926, 0.74564914, 1.        , 0.65370639, 1.        ,\n",
       "       0.76501062, 0.61779475, 0.30656674, 0.41453653, 0.5276891 ,\n",
       "       0.3635938 , 0.76679258, 0.38056266, 0.97941181, 0.42323541,\n",
       "       0.56007702, 0.60071892, 0.36133684, 0.2973941 , 0.41354037,\n",
       "       0.62240091, 0.4006153 , 0.91211536, 0.36744846, 0.44508273,\n",
       "       0.34068777, 0.4332918 , 0.38451742, 0.32874015, 0.37402069,\n",
       "       0.42104013, 0.27603364, 0.4033721 , 0.66089513, 0.4178506 ,\n",
       "       0.67672576, 0.40685175, 0.41251234, 0.34728659, 0.51050455,\n",
       "       0.32925178, 0.31922471, 0.56377315, 0.33651294, 0.34996315,\n",
       "       0.73700982, 0.56381239, 0.75489329, 0.45800687, 0.56484388,\n",
       "       0.40972349, 0.3079035 , 0.31420755, 0.33039515, 0.56404775,\n",
       "       0.38498263, 0.27667952, 0.53017677, 0.70785996, 0.47763292,\n",
       "       0.35801897, 0.28746528, 0.89842727, 0.38448744, 0.3274837 ,\n",
       "       0.45767199, 0.53465448, 0.42399131, 0.30882204, 0.39596692,\n",
       "       0.53525353, 0.4363589 , 0.43368943, 0.29504766, 0.62362596,\n",
       "       0.35384172, 0.65300349, 0.99997903, 0.37997549, 0.246807  ,\n",
       "       0.41367624, 0.43691415, 0.39455089, 0.75450441, 0.72155326,\n",
       "       0.33263115, 0.30524868, 0.42643525, 0.60505094, 0.44281126,\n",
       "       0.35658995, 0.35052343, 0.52627754, 0.37980278, 0.86375645,\n",
       "       0.58401651, 0.51965792, 0.52479853, 0.43953006, 0.59821491,\n",
       "       0.99999999, 0.43834118, 0.67299921, 0.59719225, 0.64107846,\n",
       "       0.5029419 , 0.56570552, 0.32569898, 0.58084824, 0.56702874,\n",
       "       0.84997734, 0.39148425, 0.66892436, 0.35494894, 0.41929815,\n",
       "       0.42526565, 1.        , 0.3458173 ])"
      ]
     },
     "execution_count": 38,
     "metadata": {},
     "output_type": "execute_result"
    }
   ],
   "source": [
    "proba #it is in one demension"
   ]
  },
  {
   "cell_type": "code",
   "execution_count": 39,
   "id": "9fb3b4c2",
   "metadata": {},
   "outputs": [
    {
     "data": {
      "text/plain": [
       "array([0., 0., 1., 0., 1., 0., 0., 1., 0., 0., 1., 0., 0., 1., 0., 1., 0.,\n",
       "       1., 0., 0., 0., 0., 1., 0., 0., 0., 0., 0., 0., 0., 0., 0., 0., 1.,\n",
       "       1., 0., 1., 1., 0., 0., 0., 1., 1., 1., 0., 1., 0., 0., 0., 0., 0.,\n",
       "       0., 0., 0., 1., 0., 1., 0., 1., 0., 1., 1., 0., 1., 1., 1., 0., 1.,\n",
       "       1., 1., 1., 1., 0., 0., 1., 0., 1., 0., 0., 0., 0., 1., 1., 1., 0.,\n",
       "       1., 1., 1., 0., 1., 0., 0., 1., 0., 1., 0., 0., 1., 1., 1., 1., 1.,\n",
       "       1., 1., 1., 1., 0., 0., 1., 1., 1., 0., 0., 0., 1., 1., 1., 0., 0.,\n",
       "       0., 1., 0., 0., 1., 0., 0., 1., 0., 0., 0., 1., 1., 0., 0., 1., 0.,\n",
       "       1., 0., 1., 0., 0., 0., 0., 0., 0., 0., 0., 1., 1., 1., 0., 1., 1.,\n",
       "       1., 1., 1., 1., 0., 0., 1., 0., 1., 0., 1., 0., 1., 1., 0., 0., 0.,\n",
       "       1., 0., 1., 0., 1., 0., 0., 0., 0., 0., 0., 0., 0., 1., 0., 1., 0.,\n",
       "       0., 0., 1., 0., 0., 1., 0., 0., 1., 1., 1., 1., 1., 0., 0., 0., 0.,\n",
       "       1., 0., 0., 1., 1., 1., 0., 0., 1., 0., 0., 1., 1., 0., 0., 0., 1.,\n",
       "       0., 0., 0., 1., 0., 1., 1., 0., 0., 0., 0., 0., 1., 1., 0., 0., 0.,\n",
       "       1., 1., 0., 0., 1., 0., 1., 1., 1., 1., 0., 1., 1., 0., 1., 1., 1.,\n",
       "       1., 1., 0., 1., 1., 1., 0., 1., 0., 0., 0., 1., 0.])"
      ]
     },
     "execution_count": 39,
     "metadata": {},
     "output_type": "execute_result"
    }
   ],
   "source": [
    "y = binarize([proba], threshold=0.442068)[0]   \n",
    "y\n",
    "#to convert proba in 2D array we use[]for proba but the target should always in 1D aray so give [0]"
   ]
  },
  {
   "cell_type": "code",
   "execution_count": 40,
   "id": "35a6a880",
   "metadata": {},
   "outputs": [
    {
     "name": "stdout",
     "output_type": "stream",
     "text": [
      "              precision    recall  f1-score   support\n",
      "\n",
      "           0       0.69      0.73      0.71       140\n",
      "           1       0.69      0.65      0.67       128\n",
      "\n",
      "    accuracy                           0.69       268\n",
      "   macro avg       0.69      0.69      0.69       268\n",
      "weighted avg       0.69      0.69      0.69       268\n",
      "\n"
     ]
    }
   ],
   "source": [
    "print(classification_report(ytest,y))"
   ]
  },
  {
   "cell_type": "code",
   "execution_count": null,
   "id": "a2b4bf48",
   "metadata": {},
   "outputs": [],
   "source": []
  },
  {
   "cell_type": "code",
   "execution_count": null,
   "id": "69617451",
   "metadata": {},
   "outputs": [],
   "source": []
  },
  {
   "cell_type": "code",
   "execution_count": null,
   "id": "ea0f3234",
   "metadata": {},
   "outputs": [],
   "source": []
  }
 ],
 "metadata": {
  "kernelspec": {
   "display_name": "Python 3 (ipykernel)",
   "language": "python",
   "name": "python3"
  },
  "language_info": {
   "codemirror_mode": {
    "name": "ipython",
    "version": 3
   },
   "file_extension": ".py",
   "mimetype": "text/x-python",
   "name": "python",
   "nbconvert_exporter": "python",
   "pygments_lexer": "ipython3",
   "version": "3.9.13"
  }
 },
 "nbformat": 4,
 "nbformat_minor": 5
}
